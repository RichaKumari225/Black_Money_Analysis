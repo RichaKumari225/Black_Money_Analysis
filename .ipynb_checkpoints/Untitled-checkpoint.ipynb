{
 "cells": [
  {
   "cell_type": "code",
   "execution_count": 1,
   "id": "4c782f3a-ef5f-4833-85b2-394ef4369e25",
   "metadata": {},
   "outputs": [],
   "source": [
    "import pandas as pd\n",
    "import seaborn as sns\n",
    "import numpy as np\n",
    "import matplotlib.pyplot as plt\n"
   ]
  },
  {
   "cell_type": "markdown",
   "id": "6771d7d7-81ff-43e3-b4e0-eea5f857a259",
   "metadata": {},
   "source": [
    "##  Load the Dataset 1 "
   ]
  },
  {
   "cell_type": "code",
   "execution_count": 6,
   "id": "2d51431f-afd8-4a1d-9e76-faf10ac4d464",
   "metadata": {},
   "outputs": [
    {
     "data": {
      "text/html": [
       "<div>\n",
       "<style scoped>\n",
       "    .dataframe tbody tr th:only-of-type {\n",
       "        vertical-align: middle;\n",
       "    }\n",
       "\n",
       "    .dataframe tbody tr th {\n",
       "        vertical-align: top;\n",
       "    }\n",
       "\n",
       "    .dataframe thead th {\n",
       "        text-align: right;\n",
       "    }\n",
       "</style>\n",
       "<table border=\"1\" class=\"dataframe\">\n",
       "  <thead>\n",
       "    <tr style=\"text-align: right;\">\n",
       "      <th></th>\n",
       "      <th>typeofaction</th>\n",
       "      <th>sourceid</th>\n",
       "      <th>destinationid</th>\n",
       "      <th>amountofmoney</th>\n",
       "      <th>date</th>\n",
       "      <th>isfraud</th>\n",
       "      <th>typeoffraud</th>\n",
       "    </tr>\n",
       "  </thead>\n",
       "  <tbody>\n",
       "    <tr>\n",
       "      <th>0</th>\n",
       "      <td>cash-in</td>\n",
       "      <td>30105</td>\n",
       "      <td>28942</td>\n",
       "      <td>494528</td>\n",
       "      <td>2019-07-19 14:40:00</td>\n",
       "      <td>1</td>\n",
       "      <td>type1</td>\n",
       "    </tr>\n",
       "    <tr>\n",
       "      <th>1</th>\n",
       "      <td>cash-in</td>\n",
       "      <td>30105</td>\n",
       "      <td>8692</td>\n",
       "      <td>494528</td>\n",
       "      <td>2019-05-17 14:57:00</td>\n",
       "      <td>1</td>\n",
       "      <td>type1</td>\n",
       "    </tr>\n",
       "    <tr>\n",
       "      <th>2</th>\n",
       "      <td>cash-in</td>\n",
       "      <td>30105</td>\n",
       "      <td>60094</td>\n",
       "      <td>494528</td>\n",
       "      <td>2019-07-20 13:20:00</td>\n",
       "      <td>1</td>\n",
       "      <td>type1</td>\n",
       "    </tr>\n",
       "    <tr>\n",
       "      <th>3</th>\n",
       "      <td>cash-in</td>\n",
       "      <td>30105</td>\n",
       "      <td>20575</td>\n",
       "      <td>494528</td>\n",
       "      <td>2019-07-03 14:15:00</td>\n",
       "      <td>1</td>\n",
       "      <td>type1</td>\n",
       "    </tr>\n",
       "    <tr>\n",
       "      <th>4</th>\n",
       "      <td>cash-in</td>\n",
       "      <td>30105</td>\n",
       "      <td>45938</td>\n",
       "      <td>494528</td>\n",
       "      <td>2019-05-26 10:40:00</td>\n",
       "      <td>1</td>\n",
       "      <td>type1</td>\n",
       "    </tr>\n",
       "  </tbody>\n",
       "</table>\n",
       "</div>"
      ],
      "text/plain": [
       "  typeofaction  sourceid  destinationid  amountofmoney                 date  \\\n",
       "0      cash-in     30105          28942         494528  2019-07-19 14:40:00   \n",
       "1      cash-in     30105           8692         494528  2019-05-17 14:57:00   \n",
       "2      cash-in     30105          60094         494528  2019-07-20 13:20:00   \n",
       "3      cash-in     30105          20575         494528  2019-07-03 14:15:00   \n",
       "4      cash-in     30105          45938         494528  2019-05-26 10:40:00   \n",
       "\n",
       "   isfraud typeoffraud  \n",
       "0        1       type1  \n",
       "1        1       type1  \n",
       "2        1       type1  \n",
       "3        1       type1  \n",
       "4        1       type1  "
      ]
     },
     "execution_count": 6,
     "metadata": {},
     "output_type": "execute_result"
    }
   ],
   "source": [
    "df1= pd.read_csv(\"ML.csv\")\n",
    "df1.head()"
   ]
  },
  {
   "cell_type": "markdown",
   "id": "cda88be9-aa34-4e5d-8600-2d4185f8d81f",
   "metadata": {},
   "source": [
    "## Load the Dataset2"
   ]
  },
  {
   "cell_type": "code",
   "execution_count": 9,
   "id": "2f030788-8d09-497b-8b57-0901f1041220",
   "metadata": {},
   "outputs": [
    {
     "data": {
      "text/html": [
       "<div>\n",
       "<style scoped>\n",
       "    .dataframe tbody tr th:only-of-type {\n",
       "        vertical-align: middle;\n",
       "    }\n",
       "\n",
       "    .dataframe tbody tr th {\n",
       "        vertical-align: top;\n",
       "    }\n",
       "\n",
       "    .dataframe thead th {\n",
       "        text-align: right;\n",
       "    }\n",
       "</style>\n",
       "<table border=\"1\" class=\"dataframe\">\n",
       "  <thead>\n",
       "    <tr style=\"text-align: right;\">\n",
       "      <th></th>\n",
       "      <th>guiltyid</th>\n",
       "      <th>levelofcrime</th>\n",
       "      <th>typeofcrime</th>\n",
       "    </tr>\n",
       "  </thead>\n",
       "  <tbody>\n",
       "    <tr>\n",
       "      <th>0</th>\n",
       "      <td>30105</td>\n",
       "      <td>head</td>\n",
       "      <td>type1</td>\n",
       "    </tr>\n",
       "    <tr>\n",
       "      <th>1</th>\n",
       "      <td>80740</td>\n",
       "      <td>head</td>\n",
       "      <td>type1</td>\n",
       "    </tr>\n",
       "    <tr>\n",
       "      <th>2</th>\n",
       "      <td>92735</td>\n",
       "      <td>head</td>\n",
       "      <td>type1</td>\n",
       "    </tr>\n",
       "    <tr>\n",
       "      <th>3</th>\n",
       "      <td>1615</td>\n",
       "      <td>head</td>\n",
       "      <td>type1</td>\n",
       "    </tr>\n",
       "    <tr>\n",
       "      <th>4</th>\n",
       "      <td>4161</td>\n",
       "      <td>head</td>\n",
       "      <td>type1</td>\n",
       "    </tr>\n",
       "  </tbody>\n",
       "</table>\n",
       "</div>"
      ],
      "text/plain": [
       "   guiltyid levelofcrime typeofcrime\n",
       "0     30105         head       type1\n",
       "1     80740         head       type1\n",
       "2     92735         head       type1\n",
       "3      1615         head       type1\n",
       "4      4161         head       type1"
      ]
     },
     "execution_count": 9,
     "metadata": {},
     "output_type": "execute_result"
    }
   ],
   "source": [
    "df2=pd.read_csv(\"MLtag.csv\")\n",
    "df2.head()"
   ]
  },
  {
   "cell_type": "code",
   "execution_count": 14,
   "id": "9a1814b9-e93e-42c2-84da-e7134c53fb0f",
   "metadata": {},
   "outputs": [
    {
     "data": {
      "text/html": [
       "<div>\n",
       "<style scoped>\n",
       "    .dataframe tbody tr th:only-of-type {\n",
       "        vertical-align: middle;\n",
       "    }\n",
       "\n",
       "    .dataframe tbody tr th {\n",
       "        vertical-align: top;\n",
       "    }\n",
       "\n",
       "    .dataframe thead th {\n",
       "        text-align: right;\n",
       "    }\n",
       "</style>\n",
       "<table border=\"1\" class=\"dataframe\">\n",
       "  <thead>\n",
       "    <tr style=\"text-align: right;\">\n",
       "      <th></th>\n",
       "      <th>guiltyid</th>\n",
       "      <th>levelofcrime</th>\n",
       "      <th>typeofcrime</th>\n",
       "    </tr>\n",
       "  </thead>\n",
       "  <tbody>\n",
       "    <tr>\n",
       "      <th>1479</th>\n",
       "      <td>84359</td>\n",
       "      <td>colleague</td>\n",
       "      <td>type3</td>\n",
       "    </tr>\n",
       "    <tr>\n",
       "      <th>1480</th>\n",
       "      <td>82135</td>\n",
       "      <td>colleague</td>\n",
       "      <td>type3</td>\n",
       "    </tr>\n",
       "    <tr>\n",
       "      <th>1481</th>\n",
       "      <td>15214</td>\n",
       "      <td>colleague</td>\n",
       "      <td>type3</td>\n",
       "    </tr>\n",
       "    <tr>\n",
       "      <th>1482</th>\n",
       "      <td>4986</td>\n",
       "      <td>colleague</td>\n",
       "      <td>type3</td>\n",
       "    </tr>\n",
       "    <tr>\n",
       "      <th>1483</th>\n",
       "      <td>89938</td>\n",
       "      <td>colleague</td>\n",
       "      <td>type3</td>\n",
       "    </tr>\n",
       "  </tbody>\n",
       "</table>\n",
       "</div>"
      ],
      "text/plain": [
       "      guiltyid levelofcrime typeofcrime\n",
       "1479     84359    colleague       type3\n",
       "1480     82135    colleague       type3\n",
       "1481     15214    colleague       type3\n",
       "1482      4986    colleague       type3\n",
       "1483     89938    colleague       type3"
      ]
     },
     "execution_count": 14,
     "metadata": {},
     "output_type": "execute_result"
    }
   ],
   "source": [
    "df2.tail()"
   ]
  },
  {
   "cell_type": "markdown",
   "id": "e9e68edf-4450-4f93-ad8c-02f138f2ce31",
   "metadata": {},
   "source": [
    "## Understanding the Datasets"
   ]
  },
  {
   "cell_type": "code",
   "execution_count": 18,
   "id": "0dac462a-c266-4464-b13b-d6b008ae617d",
   "metadata": {},
   "outputs": [
    {
     "data": {
      "text/plain": [
       "(2340, 7)"
      ]
     },
     "execution_count": 18,
     "metadata": {},
     "output_type": "execute_result"
    }
   ],
   "source": [
    "df1.shape"
   ]
  },
  {
   "cell_type": "code",
   "execution_count": 20,
   "id": "96359fdf-508d-4ea6-9a30-10d84cbd04b1",
   "metadata": {},
   "outputs": [
    {
     "data": {
      "text/plain": [
       "(1484, 3)"
      ]
     },
     "execution_count": 20,
     "metadata": {},
     "output_type": "execute_result"
    }
   ],
   "source": [
    "df2.shape"
   ]
  },
  {
   "cell_type": "code",
   "execution_count": 23,
   "id": "f1bd0a74-e433-4ba6-a711-8686a7855002",
   "metadata": {},
   "outputs": [
    {
     "data": {
      "text/html": [
       "<div>\n",
       "<style scoped>\n",
       "    .dataframe tbody tr th:only-of-type {\n",
       "        vertical-align: middle;\n",
       "    }\n",
       "\n",
       "    .dataframe tbody tr th {\n",
       "        vertical-align: top;\n",
       "    }\n",
       "\n",
       "    .dataframe thead th {\n",
       "        text-align: right;\n",
       "    }\n",
       "</style>\n",
       "<table border=\"1\" class=\"dataframe\">\n",
       "  <thead>\n",
       "    <tr style=\"text-align: right;\">\n",
       "      <th></th>\n",
       "      <th>sourceid</th>\n",
       "      <th>destinationid</th>\n",
       "      <th>amountofmoney</th>\n",
       "      <th>isfraud</th>\n",
       "    </tr>\n",
       "  </thead>\n",
       "  <tbody>\n",
       "    <tr>\n",
       "      <th>count</th>\n",
       "      <td>2340.000000</td>\n",
       "      <td>2340.000000</td>\n",
       "      <td>2.340000e+03</td>\n",
       "      <td>2340.000000</td>\n",
       "    </tr>\n",
       "    <tr>\n",
       "      <th>mean</th>\n",
       "      <td>49111.255128</td>\n",
       "      <td>52257.918803</td>\n",
       "      <td>2.508583e+06</td>\n",
       "      <td>0.597863</td>\n",
       "    </tr>\n",
       "    <tr>\n",
       "      <th>std</th>\n",
       "      <td>29614.440603</td>\n",
       "      <td>28988.847246</td>\n",
       "      <td>2.560434e+06</td>\n",
       "      <td>0.490434</td>\n",
       "    </tr>\n",
       "    <tr>\n",
       "      <th>min</th>\n",
       "      <td>61.000000</td>\n",
       "      <td>53.000000</td>\n",
       "      <td>1.333200e+04</td>\n",
       "      <td>0.000000</td>\n",
       "    </tr>\n",
       "    <tr>\n",
       "      <th>25%</th>\n",
       "      <td>24033.000000</td>\n",
       "      <td>28046.000000</td>\n",
       "      <td>3.359140e+05</td>\n",
       "      <td>0.000000</td>\n",
       "    </tr>\n",
       "    <tr>\n",
       "      <th>50%</th>\n",
       "      <td>46632.500000</td>\n",
       "      <td>52748.500000</td>\n",
       "      <td>1.162354e+06</td>\n",
       "      <td>1.000000</td>\n",
       "    </tr>\n",
       "    <tr>\n",
       "      <th>75%</th>\n",
       "      <td>75107.000000</td>\n",
       "      <td>78030.000000</td>\n",
       "      <td>4.686559e+06</td>\n",
       "      <td>1.000000</td>\n",
       "    </tr>\n",
       "    <tr>\n",
       "      <th>max</th>\n",
       "      <td>100000.000000</td>\n",
       "      <td>99950.000000</td>\n",
       "      <td>7.952497e+06</td>\n",
       "      <td>1.000000</td>\n",
       "    </tr>\n",
       "  </tbody>\n",
       "</table>\n",
       "</div>"
      ],
      "text/plain": [
       "            sourceid  destinationid  amountofmoney      isfraud\n",
       "count    2340.000000    2340.000000   2.340000e+03  2340.000000\n",
       "mean    49111.255128   52257.918803   2.508583e+06     0.597863\n",
       "std     29614.440603   28988.847246   2.560434e+06     0.490434\n",
       "min        61.000000      53.000000   1.333200e+04     0.000000\n",
       "25%     24033.000000   28046.000000   3.359140e+05     0.000000\n",
       "50%     46632.500000   52748.500000   1.162354e+06     1.000000\n",
       "75%     75107.000000   78030.000000   4.686559e+06     1.000000\n",
       "max    100000.000000   99950.000000   7.952497e+06     1.000000"
      ]
     },
     "execution_count": 23,
     "metadata": {},
     "output_type": "execute_result"
    }
   ],
   "source": [
    "df1.describe()"
   ]
  },
  {
   "cell_type": "code",
   "execution_count": 25,
   "id": "3c67da10-4e2f-4937-bd0d-ef157c081de3",
   "metadata": {},
   "outputs": [
    {
     "data": {
      "text/html": [
       "<div>\n",
       "<style scoped>\n",
       "    .dataframe tbody tr th:only-of-type {\n",
       "        vertical-align: middle;\n",
       "    }\n",
       "\n",
       "    .dataframe tbody tr th {\n",
       "        vertical-align: top;\n",
       "    }\n",
       "\n",
       "    .dataframe thead th {\n",
       "        text-align: right;\n",
       "    }\n",
       "</style>\n",
       "<table border=\"1\" class=\"dataframe\">\n",
       "  <thead>\n",
       "    <tr style=\"text-align: right;\">\n",
       "      <th></th>\n",
       "      <th>guiltyid</th>\n",
       "    </tr>\n",
       "  </thead>\n",
       "  <tbody>\n",
       "    <tr>\n",
       "      <th>count</th>\n",
       "      <td>1484.000000</td>\n",
       "    </tr>\n",
       "    <tr>\n",
       "      <th>mean</th>\n",
       "      <td>49331.799865</td>\n",
       "    </tr>\n",
       "    <tr>\n",
       "      <th>std</th>\n",
       "      <td>29127.196075</td>\n",
       "    </tr>\n",
       "    <tr>\n",
       "      <th>min</th>\n",
       "      <td>185.000000</td>\n",
       "    </tr>\n",
       "    <tr>\n",
       "      <th>25%</th>\n",
       "      <td>23796.750000</td>\n",
       "    </tr>\n",
       "    <tr>\n",
       "      <th>50%</th>\n",
       "      <td>49980.000000</td>\n",
       "    </tr>\n",
       "    <tr>\n",
       "      <th>75%</th>\n",
       "      <td>74511.000000</td>\n",
       "    </tr>\n",
       "    <tr>\n",
       "      <th>max</th>\n",
       "      <td>100000.000000</td>\n",
       "    </tr>\n",
       "  </tbody>\n",
       "</table>\n",
       "</div>"
      ],
      "text/plain": [
       "            guiltyid\n",
       "count    1484.000000\n",
       "mean    49331.799865\n",
       "std     29127.196075\n",
       "min       185.000000\n",
       "25%     23796.750000\n",
       "50%     49980.000000\n",
       "75%     74511.000000\n",
       "max    100000.000000"
      ]
     },
     "execution_count": 25,
     "metadata": {},
     "output_type": "execute_result"
    }
   ],
   "source": [
    "df2.describe()"
   ]
  },
  {
   "cell_type": "code",
   "execution_count": 29,
   "id": "60b2ca64-f9d8-4ad1-a8b1-c787ca866fc4",
   "metadata": {},
   "outputs": [
    {
     "data": {
      "text/plain": [
       "typeofaction     object\n",
       "sourceid          int64\n",
       "destinationid     int64\n",
       "amountofmoney     int64\n",
       "date             object\n",
       "isfraud           int64\n",
       "typeoffraud      object\n",
       "dtype: object"
      ]
     },
     "execution_count": 29,
     "metadata": {},
     "output_type": "execute_result"
    }
   ],
   "source": [
    "df1.dtypes"
   ]
  },
  {
   "cell_type": "code",
   "execution_count": 31,
   "id": "a628a551-041f-42ca-8ed8-07ef37d0554e",
   "metadata": {},
   "outputs": [
    {
     "data": {
      "text/plain": [
       "guiltyid         int64\n",
       "levelofcrime    object\n",
       "typeofcrime     object\n",
       "dtype: object"
      ]
     },
     "execution_count": 31,
     "metadata": {},
     "output_type": "execute_result"
    }
   ],
   "source": [
    "df2.dtypes"
   ]
  },
  {
   "cell_type": "code",
   "execution_count": 33,
   "id": "536c4e1f-3572-47f6-aefe-54dfbc26e4dc",
   "metadata": {},
   "outputs": [
    {
     "data": {
      "text/plain": [
       "typeofaction        2\n",
       "sourceid         1749\n",
       "destinationid    1710\n",
       "amountofmoney     933\n",
       "date             2309\n",
       "isfraud             2\n",
       "typeoffraud         4\n",
       "dtype: int64"
      ]
     },
     "execution_count": 33,
     "metadata": {},
     "output_type": "execute_result"
    }
   ],
   "source": [
    "df1.nunique()"
   ]
  },
  {
   "cell_type": "code",
   "execution_count": 37,
   "id": "0da42a71-22d3-4fbd-9b6d-ce002dd4055c",
   "metadata": {},
   "outputs": [
    {
     "data": {
      "text/plain": [
       "guiltyid        1442\n",
       "levelofcrime       2\n",
       "typeofcrime        5\n",
       "dtype: int64"
      ]
     },
     "execution_count": 37,
     "metadata": {},
     "output_type": "execute_result"
    }
   ],
   "source": [
    "df2.nunique()"
   ]
  },
  {
   "cell_type": "markdown",
   "id": "f7099929-dd3f-4b7c-8c80-e098ac7e88e6",
   "metadata": {},
   "source": [
    "## Cleaning the data"
   ]
  },
  {
   "cell_type": "code",
   "execution_count": 40,
   "id": "6b6960e7-4159-43d3-a749-c7598278b570",
   "metadata": {},
   "outputs": [
    {
     "data": {
      "text/plain": [
       "typeofaction     0\n",
       "sourceid         0\n",
       "destinationid    0\n",
       "amountofmoney    0\n",
       "date             0\n",
       "isfraud          0\n",
       "typeoffraud      0\n",
       "dtype: int64"
      ]
     },
     "execution_count": 40,
     "metadata": {},
     "output_type": "execute_result"
    }
   ],
   "source": [
    "df1.isnull().sum()"
   ]
  },
  {
   "cell_type": "code",
   "execution_count": 42,
   "id": "e0e95d40-c57f-4bf4-b914-c105859da65a",
   "metadata": {},
   "outputs": [
    {
     "data": {
      "text/plain": [
       "guiltyid        0\n",
       "levelofcrime    0\n",
       "typeofcrime     0\n",
       "dtype: int64"
      ]
     },
     "execution_count": 42,
     "metadata": {},
     "output_type": "execute_result"
    }
   ],
   "source": [
    "df2.isnull().sum()"
   ]
  },
  {
   "cell_type": "code",
   "execution_count": 44,
   "id": "1b2aa47c-8b9e-4afa-80a2-e07ee88f2967",
   "metadata": {},
   "outputs": [],
   "source": [
    "df1['date']= pd.to_datetime(df1['date'])"
   ]
  },
  {
   "cell_type": "code",
   "execution_count": 46,
   "id": "a9f5efbb-f0e6-4f66-93e3-c8fd5d065bf0",
   "metadata": {},
   "outputs": [
    {
     "data": {
      "text/plain": [
       "typeofaction             object\n",
       "sourceid                  int64\n",
       "destinationid             int64\n",
       "amountofmoney             int64\n",
       "date             datetime64[ns]\n",
       "isfraud                   int64\n",
       "typeoffraud              object\n",
       "dtype: object"
      ]
     },
     "execution_count": 46,
     "metadata": {},
     "output_type": "execute_result"
    }
   ],
   "source": [
    "df1.dtypes"
   ]
  },
  {
   "cell_type": "code",
   "execution_count": 54,
   "id": "44112ac6-8ff7-4446-b3df-a7434daf8148",
   "metadata": {},
   "outputs": [],
   "source": [
    "df1['Date']=df1['date'].dt.date\n",
    "df1['Time']=df1['date'].dt.time"
   ]
  },
  {
   "cell_type": "code",
   "execution_count": 56,
   "id": "93d68797-3d51-496d-94af-7df57a451485",
   "metadata": {},
   "outputs": [
    {
     "data": {
      "text/html": [
       "<div>\n",
       "<style scoped>\n",
       "    .dataframe tbody tr th:only-of-type {\n",
       "        vertical-align: middle;\n",
       "    }\n",
       "\n",
       "    .dataframe tbody tr th {\n",
       "        vertical-align: top;\n",
       "    }\n",
       "\n",
       "    .dataframe thead th {\n",
       "        text-align: right;\n",
       "    }\n",
       "</style>\n",
       "<table border=\"1\" class=\"dataframe\">\n",
       "  <thead>\n",
       "    <tr style=\"text-align: right;\">\n",
       "      <th></th>\n",
       "      <th>typeofaction</th>\n",
       "      <th>sourceid</th>\n",
       "      <th>destinationid</th>\n",
       "      <th>amountofmoney</th>\n",
       "      <th>date</th>\n",
       "      <th>isfraud</th>\n",
       "      <th>typeoffraud</th>\n",
       "      <th>Date</th>\n",
       "      <th>Time</th>\n",
       "    </tr>\n",
       "  </thead>\n",
       "  <tbody>\n",
       "    <tr>\n",
       "      <th>0</th>\n",
       "      <td>cash-in</td>\n",
       "      <td>30105</td>\n",
       "      <td>28942</td>\n",
       "      <td>494528</td>\n",
       "      <td>2019-07-19 14:40:00</td>\n",
       "      <td>1</td>\n",
       "      <td>type1</td>\n",
       "      <td>2019-07-19</td>\n",
       "      <td>14:40:00</td>\n",
       "    </tr>\n",
       "    <tr>\n",
       "      <th>1</th>\n",
       "      <td>cash-in</td>\n",
       "      <td>30105</td>\n",
       "      <td>8692</td>\n",
       "      <td>494528</td>\n",
       "      <td>2019-05-17 14:57:00</td>\n",
       "      <td>1</td>\n",
       "      <td>type1</td>\n",
       "      <td>2019-05-17</td>\n",
       "      <td>14:57:00</td>\n",
       "    </tr>\n",
       "    <tr>\n",
       "      <th>2</th>\n",
       "      <td>cash-in</td>\n",
       "      <td>30105</td>\n",
       "      <td>60094</td>\n",
       "      <td>494528</td>\n",
       "      <td>2019-07-20 13:20:00</td>\n",
       "      <td>1</td>\n",
       "      <td>type1</td>\n",
       "      <td>2019-07-20</td>\n",
       "      <td>13:20:00</td>\n",
       "    </tr>\n",
       "    <tr>\n",
       "      <th>3</th>\n",
       "      <td>cash-in</td>\n",
       "      <td>30105</td>\n",
       "      <td>20575</td>\n",
       "      <td>494528</td>\n",
       "      <td>2019-07-03 14:15:00</td>\n",
       "      <td>1</td>\n",
       "      <td>type1</td>\n",
       "      <td>2019-07-03</td>\n",
       "      <td>14:15:00</td>\n",
       "    </tr>\n",
       "    <tr>\n",
       "      <th>4</th>\n",
       "      <td>cash-in</td>\n",
       "      <td>30105</td>\n",
       "      <td>45938</td>\n",
       "      <td>494528</td>\n",
       "      <td>2019-05-26 10:40:00</td>\n",
       "      <td>1</td>\n",
       "      <td>type1</td>\n",
       "      <td>2019-05-26</td>\n",
       "      <td>10:40:00</td>\n",
       "    </tr>\n",
       "  </tbody>\n",
       "</table>\n",
       "</div>"
      ],
      "text/plain": [
       "  typeofaction  sourceid  destinationid  amountofmoney                date  \\\n",
       "0      cash-in     30105          28942         494528 2019-07-19 14:40:00   \n",
       "1      cash-in     30105           8692         494528 2019-05-17 14:57:00   \n",
       "2      cash-in     30105          60094         494528 2019-07-20 13:20:00   \n",
       "3      cash-in     30105          20575         494528 2019-07-03 14:15:00   \n",
       "4      cash-in     30105          45938         494528 2019-05-26 10:40:00   \n",
       "\n",
       "   isfraud typeoffraud        Date      Time  \n",
       "0        1       type1  2019-07-19  14:40:00  \n",
       "1        1       type1  2019-05-17  14:57:00  \n",
       "2        1       type1  2019-07-20  13:20:00  \n",
       "3        1       type1  2019-07-03  14:15:00  \n",
       "4        1       type1  2019-05-26  10:40:00  "
      ]
     },
     "execution_count": 56,
     "metadata": {},
     "output_type": "execute_result"
    }
   ],
   "source": [
    "df1.head()"
   ]
  },
  {
   "cell_type": "code",
   "execution_count": 59,
   "id": "95a6f15f-915e-4946-9db0-679ba6bc7417",
   "metadata": {},
   "outputs": [],
   "source": [
    "ML1= df1.drop(['date'],axis=1)"
   ]
  },
  {
   "cell_type": "code",
   "execution_count": 86,
   "id": "e40ece83-7c10-4555-8ba6-ac2390098c53",
   "metadata": {},
   "outputs": [],
   "source": [
    "ML1['Date']= pd.to_datetime(ML1['Date'])\n"
   ]
  },
  {
   "cell_type": "code",
   "execution_count": 88,
   "id": "da45eea4-c766-4006-8fb3-79b4cb0c4fc1",
   "metadata": {},
   "outputs": [
    {
     "data": {
      "text/plain": [
       "typeofaction             object\n",
       "sourceid                  int64\n",
       "destinationid             int64\n",
       "amountofmoney             int64\n",
       "isfraud                   int64\n",
       "typeoffraud              object\n",
       "Date             datetime64[ns]\n",
       "Time                     object\n",
       "(Date, Time)     datetime64[ns]\n",
       "dtype: object"
      ]
     },
     "execution_count": 88,
     "metadata": {},
     "output_type": "execute_result"
    }
   ],
   "source": [
    "ML1.dtypes"
   ]
  },
  {
   "cell_type": "code",
   "execution_count": 90,
   "id": "fe96e95f-fde8-4889-a605-ce5c02815958",
   "metadata": {},
   "outputs": [
    {
     "data": {
      "text/html": [
       "<div>\n",
       "<style scoped>\n",
       "    .dataframe tbody tr th:only-of-type {\n",
       "        vertical-align: middle;\n",
       "    }\n",
       "\n",
       "    .dataframe tbody tr th {\n",
       "        vertical-align: top;\n",
       "    }\n",
       "\n",
       "    .dataframe thead th {\n",
       "        text-align: right;\n",
       "    }\n",
       "</style>\n",
       "<table border=\"1\" class=\"dataframe\">\n",
       "  <thead>\n",
       "    <tr style=\"text-align: right;\">\n",
       "      <th></th>\n",
       "      <th>typeofaction</th>\n",
       "      <th>sourceid</th>\n",
       "      <th>destinationid</th>\n",
       "      <th>amountofmoney</th>\n",
       "      <th>isfraud</th>\n",
       "      <th>typeoffraud</th>\n",
       "      <th>Date</th>\n",
       "      <th>Time</th>\n",
       "      <th>(Date, Time)</th>\n",
       "    </tr>\n",
       "  </thead>\n",
       "  <tbody>\n",
       "    <tr>\n",
       "      <th>0</th>\n",
       "      <td>cash-in</td>\n",
       "      <td>30105</td>\n",
       "      <td>28942</td>\n",
       "      <td>494528</td>\n",
       "      <td>1</td>\n",
       "      <td>type1</td>\n",
       "      <td>2019-07-19</td>\n",
       "      <td>14:40:00</td>\n",
       "      <td>2019-07-19</td>\n",
       "    </tr>\n",
       "    <tr>\n",
       "      <th>1</th>\n",
       "      <td>cash-in</td>\n",
       "      <td>30105</td>\n",
       "      <td>8692</td>\n",
       "      <td>494528</td>\n",
       "      <td>1</td>\n",
       "      <td>type1</td>\n",
       "      <td>2019-05-17</td>\n",
       "      <td>14:57:00</td>\n",
       "      <td>2019-05-17</td>\n",
       "    </tr>\n",
       "    <tr>\n",
       "      <th>2</th>\n",
       "      <td>cash-in</td>\n",
       "      <td>30105</td>\n",
       "      <td>60094</td>\n",
       "      <td>494528</td>\n",
       "      <td>1</td>\n",
       "      <td>type1</td>\n",
       "      <td>2019-07-20</td>\n",
       "      <td>13:20:00</td>\n",
       "      <td>2019-07-20</td>\n",
       "    </tr>\n",
       "    <tr>\n",
       "      <th>3</th>\n",
       "      <td>cash-in</td>\n",
       "      <td>30105</td>\n",
       "      <td>20575</td>\n",
       "      <td>494528</td>\n",
       "      <td>1</td>\n",
       "      <td>type1</td>\n",
       "      <td>2019-07-03</td>\n",
       "      <td>14:15:00</td>\n",
       "      <td>2019-07-03</td>\n",
       "    </tr>\n",
       "    <tr>\n",
       "      <th>4</th>\n",
       "      <td>cash-in</td>\n",
       "      <td>30105</td>\n",
       "      <td>45938</td>\n",
       "      <td>494528</td>\n",
       "      <td>1</td>\n",
       "      <td>type1</td>\n",
       "      <td>2019-05-26</td>\n",
       "      <td>10:40:00</td>\n",
       "      <td>2019-05-26</td>\n",
       "    </tr>\n",
       "  </tbody>\n",
       "</table>\n",
       "</div>"
      ],
      "text/plain": [
       "  typeofaction  sourceid  destinationid  amountofmoney  isfraud typeoffraud  \\\n",
       "0      cash-in     30105          28942         494528        1       type1   \n",
       "1      cash-in     30105           8692         494528        1       type1   \n",
       "2      cash-in     30105          60094         494528        1       type1   \n",
       "3      cash-in     30105          20575         494528        1       type1   \n",
       "4      cash-in     30105          45938         494528        1       type1   \n",
       "\n",
       "        Date      Time (Date, Time)  \n",
       "0 2019-07-19  14:40:00   2019-07-19  \n",
       "1 2019-05-17  14:57:00   2019-05-17  \n",
       "2 2019-07-20  13:20:00   2019-07-20  \n",
       "3 2019-07-03  14:15:00   2019-07-03  \n",
       "4 2019-05-26  10:40:00   2019-05-26  "
      ]
     },
     "execution_count": 90,
     "metadata": {},
     "output_type": "execute_result"
    }
   ],
   "source": [
    "ML1.head()"
   ]
  },
  {
   "cell_type": "markdown",
   "id": "dd27d7a9-4da4-45e4-9e15-76839d210b9f",
   "metadata": {},
   "source": [
    "## Outlier detection"
   ]
  },
  {
   "cell_type": "markdown",
   "id": "db406528-df1b-4277-9256-cde6fa663f77",
   "metadata": {},
   "source": [
    "## Relationship analysis"
   ]
  },
  {
   "cell_type": "code",
   "execution_count": 94,
   "id": "fc173c5e-2192-4bd5-b1e5-bfe0aa006408",
   "metadata": {},
   "outputs": [
    {
     "name": "stdout",
     "output_type": "stream",
     "text": [
      "\n",
      "Correlation Matrix:\n",
      "               sourceid  destinationid  amountofmoney   isfraud\n",
      "sourceid       1.000000       0.002055       0.045877  0.027593\n",
      "destinationid  0.002055       1.000000      -0.079404  0.084050\n",
      "amountofmoney  0.045877      -0.079404       1.000000 -0.006959\n",
      "isfraud        0.027593       0.084050      -0.006959  1.000000\n"
     ]
    }
   ],
   "source": [
    "numerical_data = ML1.select_dtypes(include=['number'])\n",
    "correlation_matrix = numerical_data.corr()\n",
    "print(\"\\nCorrelation Matrix:\")\n",
    "print(correlation_matrix)"
   ]
  },
  {
   "cell_type": "code",
   "execution_count": 72,
   "id": "8054ebc0-dd55-4ebd-9880-f30937a6f244",
   "metadata": {},
   "outputs": [
    {
     "data": {
      "text/plain": [
       "<Axes: >"
      ]
     },
     "execution_count": 72,
     "metadata": {},
     "output_type": "execute_result"
    },
    {
     "data": {
      "image/png": "[encoded data removed]",
      "text/plain": [
       "<Figure size 640x480 with 2 Axes>"
      ]
     },
     "metadata": {},
     "output_type": "display_data"
    }
   ],
   "source": [
    "sns.heatmap(correlation_matrix, annot=True)"
   ]
  },
  {
   "cell_type": "code",
   "execution_count": null,
   "id": "509244ea-0010-4b26-859b-7f50618ee6ef",
   "metadata": {},
   "outputs": [],
   "source": []
  }
 ],
 "metadata": {
  "kernelspec": {
   "display_name": "Python 3 (ipykernel)",
   "language": "python",
   "name": "python3"
  },
  "language_info": {
   "codemirror_mode": {
    "name": "ipython",
    "version": 3
   },
   "file_extension": ".py",
   "mimetype": "text/x-python",
   "name": "python",
   "nbconvert_exporter": "python",
   "pygments_lexer": "ipython3",
   "version": "3.12.7"
  }
 },
 "nbformat": 4,
 "nbformat_minor": 5
}
